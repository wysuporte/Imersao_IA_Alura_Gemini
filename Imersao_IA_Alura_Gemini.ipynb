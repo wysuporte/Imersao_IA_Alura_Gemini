{
  "nbformat": 4,
  "nbformat_minor": 0,
  "metadata": {
    "colab": {
      "provenance": [],
      "authorship_tag": "ABX9TyM/q4UG1M2G7Vh+5ugQ9Ksg",
      "include_colab_link": true
    },
    "kernelspec": {
      "name": "python3",
      "display_name": "Python 3"
    },
    "language_info": {
      "name": "python"
    },
    "widgets": {
      "application/vnd.jupyter.widget-state+json": {
        "dd51745b5f104edf9ef3cb48bf19782c": {
          "model_module": "@jupyter-widgets/controls",
          "model_name": "TextModel",
          "model_module_version": "1.5.0",
          "state": {
            "_dom_classes": [],
            "_model_module": "@jupyter-widgets/controls",
            "_model_module_version": "1.5.0",
            "_model_name": "TextModel",
            "_view_count": null,
            "_view_module": "@jupyter-widgets/controls",
            "_view_module_version": "1.5.0",
            "_view_name": "TextView",
            "continuous_update": true,
            "description": "Você:",
            "description_tooltip": null,
            "disabled": true,
            "layout": "IPY_MODEL_1045721583e348d8bc645d8a2a15074b",
            "placeholder": "Digite aqui sua pergunta...",
            "style": "IPY_MODEL_9bc8c2086cd54c3ba4218148aaa5850f",
            "value": "sair"
          }
        },
        "1045721583e348d8bc645d8a2a15074b": {
          "model_module": "@jupyter-widgets/base",
          "model_name": "LayoutModel",
          "model_module_version": "1.2.0",
          "state": {
            "_model_module": "@jupyter-widgets/base",
            "_model_module_version": "1.2.0",
            "_model_name": "LayoutModel",
            "_view_count": null,
            "_view_module": "@jupyter-widgets/base",
            "_view_module_version": "1.2.0",
            "_view_name": "LayoutView",
            "align_content": null,
            "align_items": null,
            "align_self": null,
            "border": null,
            "bottom": null,
            "display": null,
            "flex": null,
            "flex_flow": null,
            "grid_area": null,
            "grid_auto_columns": null,
            "grid_auto_flow": null,
            "grid_auto_rows": null,
            "grid_column": null,
            "grid_gap": null,
            "grid_row": null,
            "grid_template_areas": null,
            "grid_template_columns": null,
            "grid_template_rows": null,
            "height": null,
            "justify_content": null,
            "justify_items": null,
            "left": null,
            "margin": null,
            "max_height": null,
            "max_width": null,
            "min_height": null,
            "min_width": null,
            "object_fit": null,
            "object_position": null,
            "order": null,
            "overflow": null,
            "overflow_x": null,
            "overflow_y": null,
            "padding": null,
            "right": null,
            "top": null,
            "visibility": null,
            "width": "100%"
          }
        },
        "9bc8c2086cd54c3ba4218148aaa5850f": {
          "model_module": "@jupyter-widgets/controls",
          "model_name": "DescriptionStyleModel",
          "model_module_version": "1.5.0",
          "state": {
            "_model_module": "@jupyter-widgets/controls",
            "_model_module_version": "1.5.0",
            "_model_name": "DescriptionStyleModel",
            "_view_count": null,
            "_view_module": "@jupyter-widgets/base",
            "_view_module_version": "1.2.0",
            "_view_name": "StyleView",
            "description_width": ""
          }
        },
        "e4d821ab9e0c4046a308b172e46dbc43": {
          "model_module": "@jupyter-widgets/controls",
          "model_name": "ButtonModel",
          "model_module_version": "1.5.0",
          "state": {
            "_dom_classes": [],
            "_model_module": "@jupyter-widgets/controls",
            "_model_module_version": "1.5.0",
            "_model_name": "ButtonModel",
            "_view_count": null,
            "_view_module": "@jupyter-widgets/controls",
            "_view_module_version": "1.5.0",
            "_view_name": "ButtonView",
            "button_style": "success",
            "description": "Enviar",
            "disabled": true,
            "icon": "",
            "layout": "IPY_MODEL_7d88dfba68fb4a9497329be117bf3466",
            "style": "IPY_MODEL_a50421d590f34a2e9b7cf04abbafc124",
            "tooltip": ""
          }
        },
        "7d88dfba68fb4a9497329be117bf3466": {
          "model_module": "@jupyter-widgets/base",
          "model_name": "LayoutModel",
          "model_module_version": "1.2.0",
          "state": {
            "_model_module": "@jupyter-widgets/base",
            "_model_module_version": "1.2.0",
            "_model_name": "LayoutModel",
            "_view_count": null,
            "_view_module": "@jupyter-widgets/base",
            "_view_module_version": "1.2.0",
            "_view_name": "LayoutView",
            "align_content": null,
            "align_items": null,
            "align_self": null,
            "border": null,
            "bottom": null,
            "display": null,
            "flex": null,
            "flex_flow": null,
            "grid_area": null,
            "grid_auto_columns": null,
            "grid_auto_flow": null,
            "grid_auto_rows": null,
            "grid_column": null,
            "grid_gap": null,
            "grid_row": null,
            "grid_template_areas": null,
            "grid_template_columns": null,
            "grid_template_rows": null,
            "height": null,
            "justify_content": null,
            "justify_items": null,
            "left": null,
            "margin": null,
            "max_height": null,
            "max_width": null,
            "min_height": null,
            "min_width": null,
            "object_fit": null,
            "object_position": null,
            "order": null,
            "overflow": null,
            "overflow_x": null,
            "overflow_y": null,
            "padding": null,
            "right": null,
            "top": null,
            "visibility": null,
            "width": null
          }
        },
        "a50421d590f34a2e9b7cf04abbafc124": {
          "model_module": "@jupyter-widgets/controls",
          "model_name": "ButtonStyleModel",
          "model_module_version": "1.5.0",
          "state": {
            "_model_module": "@jupyter-widgets/controls",
            "_model_module_version": "1.5.0",
            "_model_name": "ButtonStyleModel",
            "_view_count": null,
            "_view_module": "@jupyter-widgets/base",
            "_view_module_version": "1.2.0",
            "_view_name": "StyleView",
            "button_color": null,
            "font_weight": ""
          }
        },
        "6334e637b18642f089079766d5b51096": {
          "model_module": "@jupyter-widgets/output",
          "model_name": "OutputModel",
          "model_module_version": "1.0.0",
          "state": {
            "_dom_classes": [],
            "_model_module": "@jupyter-widgets/output",
            "_model_module_version": "1.0.0",
            "_model_name": "OutputModel",
            "_view_count": null,
            "_view_module": "@jupyter-widgets/output",
            "_view_module_version": "1.0.0",
            "_view_name": "OutputView",
            "layout": "IPY_MODEL_87bf6125822d48aca260afbbeb1d12f2",
            "msg_id": "",
            "outputs": [
              {
                "output_type": "stream",
                "name": "stdout",
                "text": [
                  "✅ Chat encerrado. Até logo!\n"
                ]
              }
            ]
          }
        },
        "87bf6125822d48aca260afbbeb1d12f2": {
          "model_module": "@jupyter-widgets/base",
          "model_name": "LayoutModel",
          "model_module_version": "1.2.0",
          "state": {
            "_model_module": "@jupyter-widgets/base",
            "_model_module_version": "1.2.0",
            "_model_name": "LayoutModel",
            "_view_count": null,
            "_view_module": "@jupyter-widgets/base",
            "_view_module_version": "1.2.0",
            "_view_name": "LayoutView",
            "align_content": null,
            "align_items": null,
            "align_self": null,
            "border": null,
            "bottom": null,
            "display": null,
            "flex": null,
            "flex_flow": null,
            "grid_area": null,
            "grid_auto_columns": null,
            "grid_auto_flow": null,
            "grid_auto_rows": null,
            "grid_column": null,
            "grid_gap": null,
            "grid_row": null,
            "grid_template_areas": null,
            "grid_template_columns": null,
            "grid_template_rows": null,
            "height": null,
            "justify_content": null,
            "justify_items": null,
            "left": null,
            "margin": null,
            "max_height": null,
            "max_width": null,
            "min_height": null,
            "min_width": null,
            "object_fit": null,
            "object_position": null,
            "order": null,
            "overflow": null,
            "overflow_x": null,
            "overflow_y": null,
            "padding": null,
            "right": null,
            "top": null,
            "visibility": null,
            "width": null
          }
        }
      }
    }
  },
  "cells": [
    {
      "cell_type": "markdown",
      "metadata": {
        "id": "view-in-github",
        "colab_type": "text"
      },
      "source": [
        "<a href=\"https://colab.research.google.com/github/wysuporte/Imersao_IA_Alura_Gemini/blob/main/Imersao_IA_Alura_Gemini.ipynb\" target=\"_parent\"><img src=\"https://colab.research.google.com/assets/colab-badge.svg\" alt=\"Open In Colab\"/></a>"
      ]
    },
    {
      "cell_type": "code",
      "execution_count": 21,
      "metadata": {
        "colab": {
          "base_uri": "https://localhost:8080/"
        },
        "id": "UP-pKhltKQss",
        "outputId": "674293d5-fb57-47ca-bb17-a74028bb1071"
      },
      "outputs": [
        {
          "output_type": "stream",
          "name": "stdout",
          "text": [
            "\u001b[?25l   \u001b[90m━━━━━━━━━━━━━━━━━━━━━━━━━━━━━━━━━━━━━━━━\u001b[0m \u001b[32m0.0/1.6 MB\u001b[0m \u001b[31m?\u001b[0m eta \u001b[36m-:--:--\u001b[0m\r\u001b[2K   \u001b[91m━━━━━━━━━━━━━\u001b[0m\u001b[91m╸\u001b[0m\u001b[90m━━━━━━━━━━━━━━━━━━━━━━━━━━\u001b[0m \u001b[32m0.5/1.6 MB\u001b[0m \u001b[31m16.1 MB/s\u001b[0m eta \u001b[36m0:00:01\u001b[0m\r\u001b[2K   \u001b[91m━━━━━━━━━━━━━━━━━━━━━━━━━━━━━━━━━━━━━━━\u001b[0m\u001b[91m╸\u001b[0m \u001b[32m1.6/1.6 MB\u001b[0m \u001b[31m30.2 MB/s\u001b[0m eta \u001b[36m0:00:01\u001b[0m\r\u001b[2K   \u001b[90m━━━━━━━━━━━━━━━━━━━━━━━━━━━━━━━━━━━━━━━━\u001b[0m \u001b[32m1.6/1.6 MB\u001b[0m \u001b[31m20.3 MB/s\u001b[0m eta \u001b[36m0:00:00\u001b[0m\n",
            "\u001b[?25h"
          ]
        }
      ],
      "source": [
        "!pip install -q google-genai ipywidgets"
      ]
    },
    {
      "cell_type": "code",
      "source": [
        "# Instale as bibliotecas necessárias\n",
        "# !pip install -q google-genai ipywidgets\n",
        "\n",
        "import os\n",
        "from google.colab import userdata\n",
        "from google import genai\n",
        "from google.genai import types\n",
        "import ipywidgets as widgets\n",
        "from IPython.display import display, Markdown\n",
        "\n",
        "# Configura a API Key\n",
        "os.environ['GOOGLE_API_KEY'] = userdata.get('GOOGLE_API_KEY')\n",
        "\n",
        "# Inicializa o cliente Gemini\n",
        "client = genai.Client()\n",
        "modelo = \"gemini-2.0-flash\"\n",
        "\n",
        "# Coleta dados do usuário\n",
        "print(\"👋 Olá! Sou seu assistente fitness. Vamos começar criando seu perfil.\")\n",
        "\n",
        "nome = input(\"Informe seu nome: \").strip()\n",
        "idade = input(\"Informe sua idade: \").strip()\n",
        "peso = input(\"Informe seu peso (kg): \").strip()\n",
        "altura = input(\"Informe sua altura (cm): \").strip()\n",
        "\n",
        "perfil_usuario = f\"\"\"\n",
        "Meu nome é {nome}, tenho {idade} anos, peso {peso} kg e tenho {altura} cm de altura.\n",
        "Com base nesses dados, quero que você aja como um especialista em fitness.\n",
        "Você deve sugerir rotinas de exercícios, alimentação saudável e dicas baseadas nas perguntas que eu fizer.\n",
        "Responda sempre de forma objetiva, clara e motivadora!\n",
        "\"\"\"\n",
        "\n",
        "# Define configuração do chat com sistema\n",
        "chat_config = types.GenerateContentConfig(\n",
        "    system_instruction=perfil_usuario\n",
        ")\n",
        "\n",
        "# Cria o chat com contexto personalizado\n",
        "chat = client.chats.create(model=modelo, config=chat_config)\n",
        "\n",
        "# Interface interativa no Colab\n",
        "entrada = widgets.Text(\n",
        "    placeholder='Digite aqui sua pergunta...',\n",
        "    description='Você:',\n",
        "    layout=widgets.Layout(width='100%')\n",
        ")\n",
        "\n",
        "botao_enviar = widgets.Button(description=\"Enviar\", button_style='success')\n",
        "resposta_box = widgets.Output()\n",
        "\n",
        "def enviar_msg(e):\n",
        "    resposta_box.clear_output()\n",
        "    pergunta = entrada.value.strip().lower()\n",
        "\n",
        "    if pergunta in [\"sair\", \"encerrar\", \"fim\"]:\n",
        "        with resposta_box:\n",
        "            print(\"✅ Chat encerrado. Até logo!\")\n",
        "        entrada.disabled = True\n",
        "        botao_enviar.disabled = True\n",
        "        return\n",
        "\n",
        "    if pergunta == \"\":\n",
        "        return\n",
        "\n",
        "    with resposta_box:\n",
        "        try:\n",
        "            resposta = chat.send_message(entrada.value)\n",
        "            display(Markdown(f\"💬 **{resposta.text}**\"))\n",
        "        except Exception as erro:\n",
        "            print(\"❌ Ocorreu um erro:\", erro)\n",
        "    entrada.value = \"\"  # Limpa a entrada\n",
        "\n",
        "botao_enviar.on_click(enviar_msg)\n",
        "\n",
        "# Exibe interface\n",
        "display(entrada, botao_enviar, resposta_box)\n",
        "\n",
        "print(\"🚀 Chatbot iniciado! Digite perguntas como:\")\n",
        "print(\"- Qual treino ideal para perder gordura?\")\n",
        "print(\"- Sugira uma dieta para ganhar massa magra.\")\n",
        "print(\"- Dicas para manter motivação.\")\n",
        "print('🛑 Digite \"sair\" para encerrar o chat.')\n"
      ],
      "metadata": {
        "colab": {
          "base_uri": "https://localhost:8080/",
          "height": 293,
          "referenced_widgets": [
            "dd51745b5f104edf9ef3cb48bf19782c",
            "1045721583e348d8bc645d8a2a15074b",
            "9bc8c2086cd54c3ba4218148aaa5850f",
            "e4d821ab9e0c4046a308b172e46dbc43",
            "7d88dfba68fb4a9497329be117bf3466",
            "a50421d590f34a2e9b7cf04abbafc124",
            "6334e637b18642f089079766d5b51096",
            "87bf6125822d48aca260afbbeb1d12f2"
          ]
        },
        "id": "cr7L5UI3LLOJ",
        "outputId": "ae9db8ae-9637-4513-e49c-9892c0b020a1"
      },
      "execution_count": 20,
      "outputs": [
        {
          "name": "stdout",
          "output_type": "stream",
          "text": [
            "👋 Olá! Sou seu assistente fitness. Vamos começar criando seu perfil.\n",
            "Informe seu nome: ueslei\n",
            "Informe sua idade: 39\n",
            "Informe seu peso (kg): 70\n",
            "Informe sua altura (cm): 170\n"
          ]
        },
        {
          "output_type": "display_data",
          "data": {
            "text/plain": [
              "Text(value='', description='Você:', layout=Layout(width='100%'), placeholder='Digite aqui sua pergunta...')"
            ],
            "application/vnd.jupyter.widget-view+json": {
              "version_major": 2,
              "version_minor": 0,
              "model_id": "dd51745b5f104edf9ef3cb48bf19782c"
            }
          },
          "metadata": {}
        },
        {
          "output_type": "display_data",
          "data": {
            "text/plain": [
              "Button(button_style='success', description='Enviar', style=ButtonStyle())"
            ],
            "application/vnd.jupyter.widget-view+json": {
              "version_major": 2,
              "version_minor": 0,
              "model_id": "e4d821ab9e0c4046a308b172e46dbc43"
            }
          },
          "metadata": {}
        },
        {
          "output_type": "display_data",
          "data": {
            "text/plain": [
              "Output()"
            ],
            "application/vnd.jupyter.widget-view+json": {
              "version_major": 2,
              "version_minor": 0,
              "model_id": "6334e637b18642f089079766d5b51096"
            }
          },
          "metadata": {}
        },
        {
          "output_type": "stream",
          "name": "stdout",
          "text": [
            "🚀 Chatbot iniciado! Digite perguntas como:\n",
            "- Qual treino ideal para perder gordura?\n",
            "- Sugira uma dieta para ganhar massa magra.\n",
            "- Dicas para manter motivação.\n",
            "🛑 Digite \"sair\" para encerrar o chat.\n"
          ]
        }
      ]
    }
  ]
}